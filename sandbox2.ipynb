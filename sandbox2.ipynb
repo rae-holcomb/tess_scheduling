{
 "cells": [
  {
   "cell_type": "markdown",
   "metadata": {},
   "source": [
    "Created 9/10/24 to see if we could make a streamlined version of the TESS scheduling software."
   ]
  },
  {
   "cell_type": "code",
   "execution_count": 1,
   "metadata": {},
   "outputs": [],
   "source": [
    "import numpy as np\n",
    "import matplotlib.pyplot as plt\n",
    "import pandas as pd\n",
    "import random\n",
    "from astropy.time import Time\n",
    "from more_itertools import consecutive_groups\n",
    "\n",
    "from tess_stars2px import TESS_Spacecraft_Pointing_Data\n",
    "from tess_stars2px import tess_stars2px_function_entry as tess_stars2px\n"
   ]
  },
  {
   "cell_type": "code",
   "execution_count": 3,
   "metadata": {},
   "outputs": [],
   "source": [
    "# Read csvs\n",
    "df = pd.read_csv('./target_df_longform.csv')\n",
    "tdf = pd.read_csv('./target_df_shortform.csv')\n",
    "df = df.drop(columns=df.columns[0])\n",
    "tdf = tdf.drop(columns=tdf.columns[0])\n",
    "\n",
    "# also fix the sec columns to that it isn't a string for some reason\n",
    "from ast import literal_eval    \n",
    "tdf[\"sec\"] = tdf[\"sec\"].apply(lambda x: literal_eval(x))\n",
    "\n",
    "# ingest positions catalog\n",
    "cat = pd.read_csv('CTLv8 (current).csv')\n",
    "cat.rename(columns={'Right_Ascension':'ra', 'Declination':'dec', \"TESSmag\":'Tmag', 'Ecliptic_Longitude':'ec_long', 'Ecliptic_Latitude':'ec_lat', 'TIC_ID':'TIC'}, inplace=True)\n",
    "# cat[:5]\n"
   ]
  },
  {
   "cell_type": "code",
   "execution_count": 4,
   "metadata": {},
   "outputs": [],
   "source": [
    "# extract scheduling info\n",
    "scinfo = TESS_Spacecraft_Pointing_Data(1)\n",
    "\n",
    "# Note: Midtimes really do seem to be the MIDDLE of the tess sector, so inclusive times for it will be +/- 13.5 days\n",
    "# goes up to sector 96, which is the conclusion of Year 7 observing (mix of north/south + some ecliptic)\n",
    "midtimes = TESS_Spacecraft_Pointing_Data.midtimes\n",
    "sectors_all = TESS_Spacecraft_Pointing_Data.sectors\n",
    "sec_cadence = np.mean(midtimes[1:] - midtimes[:-1])\n",
    "missionStart = midtimes[0] - 13.5\n",
    "missionStop = midtimes[-1] + 13.5"
   ]
  },
  {
   "cell_type": "code",
   "execution_count": 6,
   "metadata": {},
   "outputs": [],
   "source": [
    "# Helper Functions\n",
    "def max_consecutive_sequence(arr):\n",
    "    return max([len(list(i)) for i in consecutive_groups(arr)])\n",
    "\n",
    "def calc_transit_times_phase(period, tc_phase, dur=2, start_time=missionStart, stop_time=missionStop):\n",
    "    \"\"\"period - days\n",
    "    tc_phase - the fractional phase that the transit occurs at\n",
    "    duration - duration in hours\n",
    "    \"\"\"\n",
    "    transit_times = np.arange(start_time + tc_phase*period, stop_time, period)\n",
    "    return transit_times\n",
    "\n",
    "def calc_transit_times_tc(period, tc, dur=2, start_time=missionStart, stop_time=missionStop):\n",
    "    \"\"\"period - days\n",
    "    tc - one time that the transit occurs at (does not need to be the first)\n",
    "    duration - duration in hours\n",
    "    \"\"\"\n",
    "    # Calculate the first occurrence of the event time after the start time\n",
    "    first_occurrence = start_time + ((tc - start_time) % period)\n",
    "    transit_times = np.arange(first_occurrence, stop_time + 1, period)\n",
    "    return transit_times\n",
    "\n"
   ]
  },
  {
   "cell_type": "code",
   "execution_count": 8,
   "metadata": {},
   "outputs": [
    {
     "data": {
      "text/plain": [
       "array([2458331.297778  , 2458382.747778  , 2458434.197778  ,\n",
       "       2458485.647778  , 2458537.097778  , 2458588.547778  ,\n",
       "       2458639.997778  , 2458691.447778  , 2458742.897778  ,\n",
       "       2458794.347778  , 2458845.797778  , 2458897.247778  ,\n",
       "       2458948.697778  , 2459000.147778  , 2459051.597778  ,\n",
       "       2459103.047778  , 2459154.497778  , 2459205.947778  ,\n",
       "       2459257.397778  , 2459308.847778  , 2459360.297778  ,\n",
       "       2459411.747778  , 2459463.197778  , 2459514.647778  ,\n",
       "       2459566.097778  , 2459617.547778  , 2459668.997778  ,\n",
       "       2459720.44777801, 2459771.89777801, 2459823.34777801,\n",
       "       2459874.79777801, 2459926.24777801, 2459977.69777801,\n",
       "       2460029.14777801, 2460080.59777801, 2460132.04777801,\n",
       "       2460183.49777801, 2460234.94777801, 2460286.39777801,\n",
       "       2460337.84777801, 2460389.29777801, 2460440.74777801,\n",
       "       2460492.19777801, 2460543.64777801, 2460595.09777801,\n",
       "       2460646.54777801, 2460697.99777801, 2460749.44777801,\n",
       "       2460800.89777801, 2460852.34777801, 2460903.79777801])"
      ]
     },
     "execution_count": 8,
     "metadata": {},
     "output_type": "execute_result"
    }
   ],
   "source": [
    "# calc_transit_times_phase(51.45, .1)\n",
    "\n",
    "# let's make calc_transit_times able to take in arrays of periods and tcs\n",
    "\n",
    "start_time = 0\n",
    "\n",
    "periods = np.array([10,12,15])\n",
    "# tc_phases = np.array([0,.1,.2])\n",
    "\n",
    "\n",
    "np.arange(start_time + tc_phase*period, stop_time, period)\n"
   ]
  }
 ],
 "metadata": {
  "kernelspec": {
   "display_name": "codeastro",
   "language": "python",
   "name": "python3"
  },
  "language_info": {
   "codemirror_mode": {
    "name": "ipython",
    "version": 3
   },
   "file_extension": ".py",
   "mimetype": "text/x-python",
   "name": "python",
   "nbconvert_exporter": "python",
   "pygments_lexer": "ipython3",
   "version": "3.10.4"
  }
 },
 "nbformat": 4,
 "nbformat_minor": 2
}
